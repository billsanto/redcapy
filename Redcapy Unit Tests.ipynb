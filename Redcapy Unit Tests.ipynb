{
 "cells": [
  {
   "cell_type": "markdown",
   "metadata": {},
   "source": [
    "# Redcapy Unit Testing\n",
    "##### WARNING: This notebook contains unit tests. While they may be used liberally in a development stage project, import tests should NOT be used in a production project.\n",
    "- Variable names should reflect names within your Redcap project in order for the tests to succeed. This is merely a framework to be modified for a given project for which you have API access."
   ]
  },
  {
   "cell_type": "markdown",
   "metadata": {},
   "source": [
    "### Imports"
   ]
  },
  {
   "cell_type": "code",
   "execution_count": 1,
   "metadata": {},
   "outputs": [],
   "source": [
    "import io, os, sys, types\n",
    "import unittest\n",
    "import json\n",
    "import pprint\n",
    "import hashlib\n",
    "import time\n",
    "\n",
    "from redcap.redcapy import Redcapy\n",
    "from datetime import datetime, date, timedelta\n",
    "from unittest import TestLoader, TextTestRunner\n",
    "from IPython import get_ipython\n",
    "from nbformat import read\n",
    "from IPython.core.interactiveshell import InteractiveShell"
   ]
  },
  {
   "cell_type": "markdown",
   "metadata": {},
   "source": [
    "### Setup\n",
    "The following environment variables should be created for the token and url first.\n",
    "- REDCAP_API: The token assigned by your Redcap administrator\n",
    "- REDCAP_URL: The URL associated with your institution's address to interact with the API\n",
    "- Reference: https://www.google.com/search?q=create+environment+variables\n",
    "\n",
    "Alternatively, you can manually overwrite the os.environ commands in each test with your own values, or access your sensitive data in some other more secure manner.\n",
    "However, do not publish your token online!\n",
    "\n",
    "By default, all Redcap protocols use record_id as the primary identifier for each participant.\n",
    "If not using the default, define the alternative in your protocol below. Normally, this may be 'record_id'."
   ]
  },
  {
   "cell_type": "code",
   "execution_count": 2,
   "metadata": {},
   "outputs": [],
   "source": [
    "record_id = 'record_id'"
   ]
  },
  {
   "cell_type": "markdown",
   "metadata": {},
   "source": [
    "### Data Export Unit Tests"
   ]
  },
  {
   "cell_type": "code",
   "execution_count": 8,
   "metadata": {},
   "outputs": [],
   "source": [
    "class TestDataExport(unittest.TestCase):\n",
    "    \"\"\"\n",
    "        Test project data export\n",
    "        Replace various fields, such as token, url, forms, and fields as needed to suit a given project\n",
    "    \"\"\"\n",
    "    \n",
    "    REDCAP_API = os.environ['REDCAP_API_BEECON3_DEV']\n",
    "    REDCAP_URL = os.environ['REDCAP_URL']  \n",
    "    \n",
    "    \n",
    "    def test_basic_export(self):\n",
    "        \"\"\"\n",
    "            Key Variables\n",
    "            -------------\n",
    "                threshold: Integer defining the minimum number of records expected\n",
    "                fields_to_print_list: Modify to suit\n",
    "            \n",
    "        \"\"\"\n",
    "        threshold = 1\n",
    "        fields_to_print_list = [record_id, 'consent_date']\n",
    "        result_limit = 3\n",
    "        \n",
    "        rcap = Redcapy(api_token=self.REDCAP_API, redcap_url=self.REDCAP_URL)\n",
    "        return_value_json = rcap.export_records()\n",
    "\n",
    "        if 'error' in return_value_json:  # no content\n",
    "            print(return_value_json)\n",
    "        else:\n",
    "            for i, record in zip(range(result_limit), return_value_json):\n",
    "                print({key: return_value_json[i].get(key) for key in fields_to_print_list})\n",
    "        \n",
    "        self.assertTrue(len(return_value_json) >= threshold, msg='Was expecting to see more than 1')\n",
    "        \n",
    "     \n",
    "    def test_optional_fields_export(self):\n",
    "        \"\"\"\n",
    "            Key Variables\n",
    "            -------------\n",
    "                threshold: Integer defining the minimum number of records expected\n",
    "            \n",
    "        \"\"\"\n",
    "        threshold = 1\n",
    "        args = {}  # initializing dict of kwargs\n",
    "        result_limit = 1\n",
    "\n",
    "        forms_str = 'dental_screening'  # specify a form to limit output\n",
    "        \n",
    "        args['forms'] = forms_str\n",
    "        args['rawOrLabel'] = 'label'\n",
    "        args['rawOrLabelHeaders'] = 'label'\n",
    "        \n",
    "        rcap = Redcapy(api_token=self.REDCAP_API, redcap_url=self.REDCAP_URL)\n",
    "        return_value_json = rcap.export_records(**args)\n",
    "\n",
    "        if 'error' in return_value_json:  # no content\n",
    "            print(return_value_json)\n",
    "        else:\n",
    "            for i, record in zip(range(result_limit), return_value_json):\n",
    "                print({key: return_value_json[i].get(key) for key, value in record.items() })\n",
    "        \n",
    "        self.assertTrue(len(return_value_json) >= threshold, msg='Was expecting to see more than 1')\n",
    "        "
   ]
  },
  {
   "cell_type": "markdown",
   "metadata": {},
   "source": [
    "### Execute Export Tests"
   ]
  },
  {
   "cell_type": "code",
   "execution_count": 4,
   "metadata": {
    "scrolled": true
   },
   "outputs": [
    {
     "name": "stderr",
     "output_type": "stream",
     "text": [
      "E."
     ]
    },
    {
     "name": "stdout",
     "output_type": "stream",
     "text": [
      "{'e04f_prefer': '', 'pc_image3num_f': '', 'd02_neverdentistreason___5': '', 'm05_bedwater': '', 't04_winningdate': '', 'de07_crgvrrace___77': 'Unchecked', 'ae09_attribtn': '', 'b03a_whowipes_other': '', 'sms_lotto_num1_spanish': '', 'e04n_prefer': '', 'pc_image4num_d': '', 'pc_clarity_e': '', 'f06_brushsharing___0': '', 'pc_postohisprvd_other': '', 'sc_brush_episodes_passed': '', 'de18a_kidethnicity___2': 'Unchecked', 'perf_participant_guess1': '', 'e08b1_splitlotteryconf_2': '', 'de19_kidrace___88': 'Unchecked', 'pl06_vitamin_list': '', 'pl07e_other_allergies_list': '', 'pl06_otcmeds___1': 'Unchecked', 'e08b1_splitlotteryconf_3': '', 'pr15_agvideo': '', 'perf_brush_am_secs_manual': '', 'de18a_kidethnicity___1': 'Unchecked', 'unantprob_action': '', 'e08c_diseaseodds_3': '', 'unantprob_dt': '', 'uh3_qnr_motivation_complete': 'Incomplete', 'b03a_whowipes': '', 'e03g_prefer_2': '', 'pl03g1_eligibility': '', 'de24_sharedcelltime___6': 'Unchecked', 'b11_toothpasteamt': '', 'medical_history_dental_screening_and_plaque_form_complete': 'Incomplete', 'f07_pastesharing___88': '', 'p8b_miles_rnd_trip_bus': '', 'f14_childappinterest': '', 'q05_notehs': '', 'f03_comforttoothbrush': '', 'pc03_dentalvisitcp': '', 'pc_image3num_e': '', 'b08a_expectedbrush2xday': '', 'h05_missedschool': '', 'e04h_prefer': '', 'f01_whobrushed_txt': '', 'rem_error_code_primary_6': '', 'sonicare_complete': 'Incomplete', 'perf_brush_pm_secs_manual': '', 'f05_brushchallenges___1': '', 'al06': '', 'de19_kidrace___90': 'Unchecked', 'de28b_sitelocation': '', 'f32_projectdiscussion___77': '', 'f32_projectdiscussion___6': '', 'de07_crgvrrace___90': 'Unchecked', 'p1_timetobrush_txt': '', 'e03f_prefer': '', 'pl06_otherrx_list': '', 'f19_smslike___3': '', 'sms_welcome_message_english_complete': 'Incomplete', 'consent_photo_signed': '', 'pl08_eligibility': '', 'perf_upload_timestamp': '', 'pc04_studyexit': '', 'e03i_prefer_2': '', 'perf_mobile_number': '', 'de13_kidlastname': '', 'q0_timestamp': '', 'e07a_ballbagvarying': '', 'ss02_untxcaries': '', 'f20_smsdislike___0': '', 'b04b_brushedpastweek': '', 'e06a_flipcoin1x': '', 'e07_ballbag': '', 'b07_ideallybrush_txt': '', 'pr16_aglang': '', 'f07_pastesharing___90': '', 'dv02_dentalvs': '', 's04_childreninhousehold': '', 'de04_crgvrbdate': '', 'f09_problemssyncing': '', 'es01_date': '2018-03-19', 'f05_brushchallenges___77': '', 'de07_crgvrrace___2': 'Unchecked', 'al12_futime': '', 'pl03a_diabetes': '', 'e04i_prefer': '', 'de29_notes': '', 'uploaded_pic_3': '', 'pd_irb_report': '', 'ss13_wccscreeningform': '', 'm03_eatingafterbrushing': '', 'p4a_notbrush2wks_txt': '', 'f05_brushchallenges___4': '', 'pc_conf_d': '', 'f19_smslike___90': '', 's01_education': '', 'record_id': '1', 's05a_incomelevel': '3 = $20,780 ($1,732/mo or $400/wk)', 'pa06_notes': '', 'e08b1_splitlotteryconf_4': '', 'protocol_subject_deviation_complete': '', 'e07a_ballbagvarying_txt': '', 'es03_age': \"Yes  <b><font color='green'>[S&iacute]</font></b>\", 'de05_crgvrsex': '', 'e08c_diseaseodds_2': '', 'rem_date_created_alt_2': '', 'h02_bvrgpain': '', 'pc02_imagebox': '', 'pr13_familypaste': '', 'h10_upsetbcpain': '', 'pd_staff_logged': '', 'rem_language': '', 'ae05_aedescrptn': '', 'q03_language': 'English', 'de28d_sitelocation_doctor': '', 'de19_kidrace___3': 'Unchecked', 'h01_pain': '', 'f06a_brushsharingfrq': '', 'e03n_prefer': '', 'pl07c_medallergies': '', 'f06_brushsharing___88': '', 'pd_report_require': '', 'de07_crgvrrace_other': '', 'pc_clarity_g': '', 'pr12_pumplabel': '', 'e04d_prefer': '', 'ohbhh_timestamp': '', 'e03f_prefer_2': '', 'perf_numteeth': '', 'perf_brush_pm_secs_s4k': '', 'de16_kidageinmos': '', 'al04_staff': '', 'pl07b_foodallergies': '', 's04_childreninhousehold_no': '', 'e04b_prefer': '', 'perf_twilio_sid': '', 'f33_overallsatisfaction': '', 'de24_sharedcelltime___9': 'Unchecked', 't03_winningamount': '', 'e03m_prefer_2': '', 'de03_crgvrmiddlename': '', 'es08_texts': \"Yes  <b><font color='green'>[S&iacute]</font></b>\", 'baseline_form_complete': '', 'p3b_frqlonger': '', 'pr04_s4klabel': '', 'de28c_sitelocation': '', 's05a_incomeother': '', 'e08c1_diseaseoddsconf_1': '', 'study_exit_complete': '', 'f13_dislikeapp_txt': '', 'p8a_miles_rnd_trip_car_txt': '', 'f32_projectdiscussion___5': '', 'f08_syncappfrq': '', 'pc_ohimis_g': '', 'pc_clarity_f': '', 'pd_impact': '', 'b04a_wipedpastweek': '', 'de18a_kidwhatethnicity': '', 'de28b_sitelocation_other': '', 'ss_participant_eligible': '', 'de24_sharedcelltime___8': 'Unchecked', 'ic02_iccopyfmt': '', 'ra02_randomization': '', 'e04c_prefer': '', 'pa03_totalamount': '', 'es05_smartfone': \"Yes  <b><font color='green'>[S&iacute]</font></b>\", 'de19_kidrace___5': 'Unchecked', 'e08c_diseaseodds_5': '', 'rem_date_updated_alt_4': '', 'de15_kidbdate': '', 'perf_twilio_error_msg_alt': '', 'pl07e_otherallergies': '', 'fv02_fvapplied': '', 'ae01_intlcontact': '', 'perf_sync_earnings': '', 'pr08_interestedcontinuing': '', 'de24_sharedcelltime___1': 'Unchecked', 'e08c1_diseaseoddsconf_5': '', 'pc_notes': '', 'ae11_notes': '', 'f32_projectdiscussion___7': '', 'rem_error_msg_alt_4': '', 'al_06other': '', 'uploaded_pic_2': '', 'b03b_whobrushes_other': '', 'pr06_2ndbrushheads': '', 'de22b_tel_no_mobile': '(702) 830-5075', 'perf_brush_am_count': '', 'pd_description': '', 'rem_error_msg_primary_4': '', 'de20_fones___2': 'Checked', 'p6_minutestoappt_txt': '', 'consentform_timestamp': '', 'f05_brushchallenges___2': '', 'unantprob_des': '', 'p8b_miles_rnd_trip_bus_txt': '', 'perf_brush_threshold_secs': '', 'f17_smsfrq': '', 'd05_dentalprobprvyear': '', 'uh3_qnr_dental_care_complete': '', 'perf_twilio_error_code_alt': '', 'p8a_miles_rnd_trip_car': '', 'ra05_notes': '', 'perf_date_updated_alt': '', 'rem_error_code_alt_6': '', 'demographics_complete': 'Complete', 'e08b_splitlottery_5': '', 'de22_text_language': 'English', 'perf_brush_am_secs_s4k': '', 'pd_action_taken': '', 'ss07_imgstaff': '', 'de06a_crvgrwhatethnicity___88': 'Unchecked', 'rem_error_code_alt_4': '', 'f02_comfortbrushing': '', 'f24_rewardfairness': '', 'pd_date_dev': '', 'pl03e1_eligibility': '', 'h07_irritable': '', 'pc_ohimis_d': '', 'p7_typeoftransport___2': '', 'p8c_priceofotherride_txt': '', 'e01_snackrightnow': '', 'unantprob_explain': '', 'uploaded_pic_1': '', 'b01_checkteethfrq': '', 'f05_brushchallenges___88': '', 'p9_timeoffwork_txt': '', 'rem_sid_primary_2': '', 'de07_crgvrrace___88': 'Unchecked', 'pd_staff_identify': '', 'de06a_crvgrwhatethnicity___99': 'Unchecked', 'de28a_sitelocation_other': '', 'f32_projectdiscussion___4': '', 'pl05_currentrx': '', 'rem_date_created_primary_6': '', 'e08a_bestlotteryodds_3': '', 'perf_twilio_sid_alt': '', 'ae08_aegrade': '', 'pl06_otcmeds___3': 'Unchecked', 'de28c_sitelocation_other': '', 'e08b_splitlottery_6': '', 'b04a_wipedpastweek_txt': '', 'e04a_startingvalue': '2', 'sms_lotto_num2_english': '', 'de12_zip': '', 'e08a_bestlotteryodds_1': '', 'ae03_contacttime': '', 'de28_site': 'EHS Daycare/ Center based', 'postaptmt_foto_plaque_score_ohimis_complete': '', 'winning_qx': '', 'perf_generated_guess2': '', 'b08b_expectbrush1xday': '', 'perf_twilio_status_alt': '', 'de06b_crgvr_other': '', 'pc01_consent': '', 'e05b_chipbag_mosttoleast': '', 'd06_couldntgetdentalcare': '', 'number_of_pix': '', 'm02_usefltoothpaste': '', 'e03h_prefer': '', 'rem_number_primary_2': '', 'unantprob_staff': '', 'f06_brushsharing___77': '', 'pa02_earningspayment': '', 'ae10_serious': '', 'f19_smslike___0': '', 'f19_smslike___4': '', 'f07_pastesharing_other': '', 'de18a_kidethnicity___90': 'Unchecked', 'uh3_qnr_caregiver_sociodemographics_complete': 'Incomplete', 'de14_kidfirstname': '', 'rem_sid_alt_6': '', 'sc_brush_episodes_total': '', 'rem_sid_primary_6': '', 'de28a_waitlistedother': '', 'perf_total_week_earnings': '', 'b12_whenbrushed___90': 'Unchecked', 'e03e_prefer': '', 'consent_complete': 'Incomplete', 'f01_whobrushed': '', 'f06_brushsharing___3': '', 'pr10_newtppumpwt': '', 'perf_language': '', 'rem_number_alt_4': '', 'f32_projectdiscussion___1': '', 'fv04_expirdate': '', 'e03i_prefer': '', 'ss05_adaclass': '', 'fluoride_varnish_application_complete': 'Incomplete', 'e03g_prefer': '', 'perf_date_created': '', 'rem_error_code_primary_2': '', 'de28a_waitlisted': '', 'ss09_toothpaste': '', 'pd_result_ae': '', 'rem_study_week': '', 'al07_visit': '', 'de25a_othrcelltxt': '', 'f06_brushsharing___1': '', 'rem_date_created_alt_6': '', 'pl06_otcmeds___2': 'Unchecked', 'p7_typeoftransport___90': '', 'f04_brushposition___5': '', 'ra07_notrandomized': '', 'dv03_notes': '', 'p6_minutestoappt': '', 'de24_sharedcelltime___5': 'Unchecked', 'de06_crgvrethnicity': '', 'de10_city': '', 'f19_smslike___5': '', 'unantprob_tm': '', 'consent_upload': '', 'e03k_prefer_2': '', 'redcap_repeat_instrument': None, 'al11_fudate': '', 'es07_s4kapp': \"Yes  <b><font color='green'>[S&iacute]</font></b>\", 'f06_brushsharing___2': '', 'perf_upload_date': '', 'p8c_priceoftaxi_txt': '', 'pr17_productinfo': '', 'b12_whenbrushed___2': 'Unchecked', 'es_participant_eligible': 'Yes', 'q05_ehsjoindate': '', 'f07_pastesharing___2': '', 'perf_spreadsheet_code': '', 'p8c_priceoftaxi': '', 'rem_status_primary_4': '', 'f04_brushposition___1': '', 'e08a_bestlotteryodds_2': '', 'b12_whenbrushed___77': 'Unchecked', 'ss06_plaquesolutionapp': '', 'pc_image3num_g': '', 'e04k_prefer': '', 'pc_image4num_g': '', 'de07_crgvrrace___4': 'Unchecked', 'e03c_prefer_2': '', 'ra04_brushtime': '', 'pc_postohisdate': '', 'perf_brush_min_daily': '', 'sms_welcome_englishspanish': '', 'de25_othrcelltxt': '', 'perf_brush_pm_secs_offline': '', 'pc_image1num_d': '', 'rem_status_alt_2': '', 'de08_crvgrrelaship_other': '', 'off_study_explain': '', 'b12_whenbrushed___1': 'Unchecked', 'es06_celltype': 'iPhone', 'm10_wantbrush2xday': '', 'pr00_baseline': '', 'e08a1_lotteryconf_6': '', 'pc_conf_g': '', 'f08_syncappfrq_txt': '', 'de28d_sitelocation': '', 'e03b_prefer_2': '', 'e08c1_diseaseoddsconf_3': '', 'de18_kidethnicity': '', 'rem_date_created_primary_2': '', 'a11_fucalendar': '', 'f05_brushchallenges_other': '', 'b08a_expectedbrush2xday_txt': '', 'e08a1_lotteryconf_2': '', 'uh3_qnr_oral_health_ecohis_complete': '', 'ss04_dmftge7': '', 'f20_smsdislike___5': '', 'pd_dev_type': '', 'pl04_rxname': '', 'e03k_prefer': '', 'perf_brush_total_secs': '', 'f32_projectdiscussion___2': '', 'de06a_crvgrwhatethnicity___90': 'Unchecked', 'f07_pastesharing___77': '', 'fv05_nofvreason': '', 'p7_typeoftransport___1': '', 'd02_neverdentist_other': '', 'perf_date_created_alt': '', 'de07_crgvrrace___3': 'Unchecked', 'f20_smsdislike___4': '', 'q05_ehsprgrmtype': '', 'winner_of_e3_drawing_complete': '', 'rem_sid_alt_4': '', 'pc_image2num_d': '', 'pc_ohimis_e': '', 'f11_appusefullness': '', 'perf_sms_text': '', 'e08a1_lotteryconfidence_4': '', 'rem_sid_primary_4': '', 'rem_error_code_primary_4': '', 'pl05_currentrx_yes': '', 'b08b_expectbrush1xday_txt': '', 'pr15_keymessages': '', 'q05_waitlisted': '', 'perf_mobile_number_alt': '', 'de06a_crvgrwhatethnicity___1': 'Unchecked', 'f18_smsamount': '', 'f26_rewardamt': '', 'm01_dentst2xyr': '', 'de07_crgvrrace___5': 'Unchecked', 'pl07a_outorinallergies': '', 'unanticipated_problems_complete': '', 'e03l_prefer': '', 'randomization_and_group_form_complete': '', 'p7_typeoftransport_other': '', 'f35_likeleast_txt': '', 'h04_languagetrbl': '', 'pr05_2nds4k': '', 'de24_sharedcelltime___3': 'Unchecked', 'de06a_crvgrwhatethnicity___2': 'Unchecked', 'sms_lotto_num1_english': '', 'f16_whatproblems': '', 'de24_sharedcelltime___4': 'Unchecked', 'sc_days_in_threshold': '', 'e03d_prefer': '', 'f13_dislikeapp': '', 'e08a1_lotteryconf_1': '', 'pc_image1num_g': '', 'e08b_splitlottery_1': '', 'pr11_oldtppumpwt': '', 'f04_brushposition___4': '', 's05_combinedincome': '', 'e08c1_diseaseoddsconf_6': '', 'rem_date_updated_primary_4': '', 'e08a_bestlotteryodds_5': '', 'perf_twilio_status': '', 'pc_image1num_e': '', 'perf_date_updated': '', 'e03l_prefer_2': '', 'ss12_notes': '', 'f32_projectdiscussion___3': '', 'fv05_notes': '', 'b10_fluoridetoothpaste': '', 'p7_typeoftransport___5': '', 'ae07_resolvedate': '', 'e06b_flipcoin6x': '', 'b04b_brushedpastweek_txt': '', 'pl03d_heart': '', 'al09_phone': '', 'f32_projectdiscussion_other': '', 'f32_projectdiscussion___88': '', 'de07_crgvrrace___99': 'Unchecked', 'de17_kidsex': '', 'e02_snack5weeks': '', 'f07_pastesharing___3': '', 'de20_fones___3': 'Unchecked', 'de24_sharedcelltime___7': 'Unchecked', 'weekly_earnings_complete': '', 'e08a1_lotteryconf_5': '', 'rem_status_primary_2': '', 'perf_winning_number2': '', 'e04j_prefer': '', 'de18a_kidethnicity___99': 'Unchecked', 'e05a_chipbag_leasttomost': '', 'es04_moving': \"Yes  <b><font color='green'>[S&iacute]</font></b>\", 'perf_participant_guess2': '', 'f04_brushposition___6': '', 'e04g_prefer': '', 'rem_error_msg_alt_6': '', 'f07_pastesharing___1': '', 'rem_date_created_alt_4': '', 'pc_image1num_f': '', 'pc_image2num_g': '', 'f06_brushsharing_other': '', 'e03d_prefer_2': '', 'e04e_prefer': '', 'perf_cum_week_earnings': '', 'pl02_dentalprvd': '', 'sc_sms_message_text': '', 'b05a_forgetwipepastweek': '', 'al01_date': '', 'ss10_toothbrushing': '', 'd03_firstdentalage': '', 'f04_brushposition___90': '', 'h09_socializingtrbl': '', 'ae02_contactdate': '', 'off_study_date': '', 'b07_ideallybrush': '', 'h08_smilingtrbl': '', 'pd_continue': '', 'h11_guilt': '', 'd02_neverdentistreason___0': '', 'perf_brush_earnings': '', 'pr09_continuinggroup': '', 'f27_motivationchangerewards': '', 'de23_sharedcell': '', 'p8d_priceofotherride': '', 'e08b1_splitlotteryconf_6': '', 'p3a_longeramt': '', 's02_employment': '', 'perf_earnings_adjust_date': '', 'd04_dentalapptprvyear': '', 'e09_parentscorrect': '', 'e08a_startingvalue': '', 'de19_kidrace___2': 'Unchecked', 'd02_neverdentistreason___2': '', 'pl04_pastrx': '', 'pr14_calendar': '', 'pa04_receipt': '', 'rem_number_primary_4': '', 'b12_whenbrushed___3': 'Unchecked', 'rem_message': '', 'de21_fones_landine': '', 'pc_image4num_e': '', 'de06a_crvgrwhatethnicity___77': 'Unchecked', 'f31_talkaboutproject': '', 'm04_notsharingitemsinmouth': '', 'b05b_forgetbrushpastweek': '', 'e08a_bestlotteryodds_4': '', 'pd_date_id': '', 'al03_calltype': '', 'pa01_visitpayment': '', 'f16_whatproblems_txt': '', 'al05_inpersonremindercard': '', 'de07_crgvrrace___1': 'Unchecked', 'ra03_grpcolor': '', 'navigation_form_complete': '', 'e03a_startingvalue': '1', 'de19_kidrace___77': 'Unchecked', 'd02_neverdentistreason___90': '', 'f22_understandrewardsapp': '', 'payment_complete': '', 'de09_address': '', 'al02_time': '', 'e08b_splitlottery_4': '', 'b12_whenbrushed___5': 'Unchecked', 'de19_kidrace___1': 'Unchecked', 'de19_kidrace___99': 'Unchecked', 'pc_image2num_f': '', 'p10_costofchildcare': '', 'f05_brushchallenges___0': '', 'rem_date_updated_primary_2': '', 'p7_typeoftransport___3': '', 'sms_welcome_english': '', 'perf_week': '', 'f34_likemost': '', 'b12_whenbrushed___88': 'Unchecked', 'de_timestamp': '2018-03-19 11:32:33', 'p3a_longeramt_txt': '', 'e08b_splitlottery_3': '', 'p3_longertobrush': '', 'es_timestamp': '2018-03-19 11:24:19', 'e08b1_splitlotteryconf_5': '', 'pr_participant_eligible': 'Yes', 'uh3_qnr_administration_complete': 'Incomplete', 'pr18_notes': '', 'pl03g_othermedprobs_xplain': '', 'b03b_whobrushes': '', 'f04_brushposition___2': '', 'rem_status_alt_4': '', 'q01_visit_date': '', 'rem_date_updated_primary_6': '', 'e08b1_splitlotteryconf_1': '', 'pl03e_asthma': '', 'd02_neverdentistreason___4': '', 'de18a_kidethnicity___3': 'Unchecked', 'b06a_distractedxresponse': '', 'f05_brushchallenges___3': '', 'f19_smslike_other': '', 'pa07_visit_date': '', 'q02_visitsite': '', 'pl05a_eligibility': '', 'f05_brushchallenges___5': '', 'm06_brushed2xday': '', 'e08c1_diseaseoddsconf_2': '', 'pl03f_development': '', 'f30_knowotherparticipants': '', 'b06a_b_startingvalue': '1', 'f20_smsdislike___1': '', 'd02_neverdentistreason___3': '', 'e08a_bestlotteryodds_6': '', 'sc_prorate_factor': '', 'b09_brushingage': '', 'p2_adultsbrush': '', 'pr03_reminder': '', 'sms_reminder_log_complete': '', 'rem_error_msg_primary_6': '', 'pl08_yes_dentalcomps': '', 'f32_projectdiscussion___90': '', 'q00_visit': 'Screening (-14 days)', 'p4_tb_ing_toolong': '', 'e08c_diseaseodds_1': '', 'f04_brushposition___88': '', 'd01_dentist': '', 'dv00_date': '', 'de18a_kidethnicity___77': 'Unchecked', 'e10_financeattention': '', 'sc_week': '', 'de11_state': '', 'fv03_lotnum': '', 'sc_sms_number': '', 'q02_siteother': '', 'de22_fones_mobile': 'I give you permission to contact me on this mobile phone.', 'pc_conf_e': '', 'al08_outcome': '', 'dv01_ehs': '', 'e03j_prefer_2': '', 'e03b_prefer': '', 'pl06_otcmeds___0': 'Unchecked', 'de18a_kidethnicity___88': 'Unchecked', 'p5_brushingtoolong_txt': '', 'uh3_qnr_opportunity_costs_complete': '', 'perf_winning_number1': '', 'perf_event_date_max': '', 'h03_foodpain': '', 'perf_generated_guess1': '', 'de02_crgvrfirstname': '', 'pl03b_infections': '', 'e05_startingvalue': '1', 'rem_date_updated_alt_6': '', 'pc_image2num_e': '', 'p2_adultsbrush_other': '', 'd02_neverdentistreason___77': '', 'f15_appproblems': '', 'b06b_distractedxopen': '', 'pc_clarity_d': '', 'f20_smsdislike___90': '', 'al05_contacttype': '', 'm09_wantbrushfluoride': '', 'pl07c1_eligibility': '', 'rem_number_alt_2': '', 'f20_smsdislike___3': '', 't01_winner': '', 'e03h_prefer_2': '', 'f25_rewardmotivation': '', 'sc_app_episodes_list': '', 'p9_timeoffwork': '', 'rem_date_created_primary_4': '', 'e04l_prefer': '', 'pc_ohimis_f': '', 'pl02_dentalprvd_other': '', 'perf_brush_pm_count': '', 'pl06_herbalrx_list': '', 'sms_lotto_num2_spanish': '', 'e08c_diseaseodds_4': '', 'ss03_cariesexp': '', 'perf_brush_pass_count': '', 'pc_image4num_f': '', 'rem_sid_alt_2': '', 'ic03_icfirst': '', 'f28_easeofrewards': '', 'f07_pastesharing___0': '', 'p7_typeoftransport___4': '', 'h12_missedwork': '', 'p7_typeoftransport___88': '', 'perf_twilio_error_code': '', 'd02_neverdentistreason___88': '', 'b12_whenbrushed_other': '', 'ra01_ready': '', 'sms_weekly_drawing_english_complete': '', 'e08a1_lotteryconf_3': '', 'uploaded_pic_4': '', 'f20_smsdislike___2': '', 'd02_neverdentistreason___1': '', 'p3b_frqlonger_txt': '', 'perf_brush_am_secs_offline': '', 'de01_crgvrlastname': '', 'ae04_contacttype': '', 'e03e_prefer_2': '', 'rem_status_primary_6': '', 'al10_tpreminder': '', 'pr07_brush_heads': '', 'h13_financialimpact': '', 'f21_rewards': '', 'consent_date': '2017-02-09', 'e08c1_diseaseoddsconf_4': '', 'de28d_sitelocation_other': '', 'b02_brushwipeteeth': '', 'rem_last_timestamp': '', 'rem_error_msg_alt_2': '', 'perf_batch_week_earnings': '', 'f04a_brushposition_other': '', 'ss01_numteeth': '2', 'f06_brushsharing___90': '', 'perf_earnings_adjust': '', 'p7_typeoftransport___6': '', 'de20_fones___1': 'Unchecked', 'screening_eligibility_complete': 'Incomplete', 'link_to_appointment_log_complete': '', 'b06b_distractedxopen_txt': '', 'ic01_icformat': 'Digitally', 'b12_whenbrushed___4': 'Unchecked', 'ss05a_class3referral': '', 'uh3_qnr_economics_complete': 'Incomplete', 'rem_study_week_begin_date': '', 'q05_offwaitlist': '', 'ss08_frankl': '', 'adverse_events_complete': '', 'pr03_s4ksync': 'Yes', 'e03n_prefer_2': '', 'f36_recommend': '', 'e03j_prefer': '', 'de21b_tel_no_landline': '', 'f19_smslike___1': '', 'p10_costofchildcare_txt': '', 'b13_afterbrushfrq': '', 'f05_brushchallenges___90': '', 'f12_likeapp_txt': '', 'sms_welcome_message_spanish_complete': 'Incomplete', 'de06a_crvgrwhatethnicity___3': 'Unchecked', 'de26_crgvremail': '', 'pl07d_latex': '', 'ra06_randomization_date': '', 'perf_daily_brush_summary': '', 'f29_howsatisfied': '', 'f34_likemost_txt': '', 'redcap_event_name': 'Screening (Arm 1: Screening Arm)', 'perf_sync_count': '', 'f35_likeleast': '', 'appointment_log_for_followup_complete': '', 'rem_number_primary_6': '', 't02_preferredwinningoption': '', 'rem_error_code_alt_2': '', 'f20_smsdislike_other': '', 'rem_date_updated_alt_2': '', 'pc_image3num_d': '', 'de28a_sitelocation': '', 'p5_brushingtoolong': '', 'e03c_prefer': '', 'uh3_qnr_followup_complete': '', 'rem_status_alt_6': '', 'p4a_notbrush2wks': '', 'sc_passing_threshold': '', 'de19_kidrace_other': '', 'off_study_reason': '', 'sc_brush_episodes_list': '', 'uh3_qnr_oh_behavior_and_health_habits_complete': 'Incomplete', 'products_complete': 'Incomplete', 'f23_rulesrewards_tb': '', 'de24_sharedcelltime___2': 'Unchecked', 'al13_notes': '', 'perf_twilio_error_msg': '', 'redcap_repeat_instance': '', 'ic04_notes': '', 'f04_brushposition___77': '', 'perf_earnings_adjust_note': '', 'sc_complete_episodes_list': '', 'p1_timetobrush': '', 'rem_error_msg_primary_2': '', 'post_appointment_checklist_complete': 'Incomplete', 'de08_crvgrrelaship': '', 'e04m_prefer': '', 'f19_smslike___2': '', 'pc_conf_f': '', 'sms_weekly_drawing_spanish_complete': '', 'ehs_dental_visit_complete': '', 'pl04a_eligibility': '', 'pl03g_othermedproblems': '', 'e08c_diseaseodds_6': '', 'f10_useappbrushing': '', 'b09_brushingage_txt': '', 'pl08_dentalcomplications': '', 'f12_likeapp': '', 'de19_kidrace___4': 'Unchecked', 'pd_dev_type_other': '', 'pl03c_neurology': '', 'f07a_pastesharingfrq': '', 'e08b_splitlottery_2': '', 'consent_upload_yesorno': '', 'h06_sleepingtrbl': '', 'ae06_onsetdate': '', 'e03_4_startingvalue': '1', 'e03m_prefer': '', 'pc_postohisprvd': '', 'm08_wantbrushevening': '', 'rem_number_alt_6': '', 'f04_brushposition___3': ''}\n"
     ]
    },
    {
     "name": "stderr",
     "output_type": "stream",
     "text": [
      "\n",
      "======================================================================\n",
      "ERROR: test_basic_export (__main__.TestDataExport)\n",
      "----------------------------------------------------------------------\n",
      "Traceback (most recent call last):\n",
      "  File \"<ipython-input-3-aba33d3ca844>\", line 20, in test_basic_export\n",
      "    fields_to_print_list = [record_id, 'randomization_id']\n",
      "NameError: name 'record_id' is not defined\n",
      "\n",
      "----------------------------------------------------------------------\n",
      "Ran 2 tests in 5.201s\n",
      "\n",
      "FAILED (errors=1)\n"
     ]
    },
    {
     "data": {
      "text/plain": [
       "<unittest.runner.TextTestResult run=2 errors=1 failures=0>"
      ]
     },
     "execution_count": 4,
     "metadata": {},
     "output_type": "execute_result"
    }
   ],
   "source": [
    "te = TestDataExport()\n",
    "suite = TestLoader().loadTestsFromModule(te)\n",
    "TextTestRunner().run(suite)"
   ]
  },
  {
   "cell_type": "markdown",
   "metadata": {},
   "source": [
    "### MetaData Export Unit Tests"
   ]
  },
  {
   "cell_type": "code",
   "execution_count": 5,
   "metadata": {
    "collapsed": true
   },
   "outputs": [],
   "source": [
    "class TestMetaDataExport(unittest.TestCase):\n",
    "    \"\"\"\n",
    "        \n",
    "    \"\"\"\n",
    "    REDCAP_API = os.environ['REDCAP_API_BEECON3_DEV']\n",
    "    REDCAP_URL = os.environ['REDCAP_URL']   \n",
    "    \n",
    "    \n",
    "    def test_basic_export(self):\n",
    "        rcap = Redcapy(api_token=self.REDCAP_API, redcap_url=self.REDCAP_URL)\n",
    "\n",
    "#         return_value_json = self.rcap.export_records(format='json', return_format='json', exportCheckboxLabel='true')\n",
    "        return_value_json = rcap.export_data_dictionary()\n",
    "        \n",
    "        if 'error' in return_value_json:  # no content\n",
    "            print(return_value_json)\n",
    "        else:\n",
    "            print('Partial output follows:\\n')\n",
    "            pprint.pprint(return_value_json[:2])\n",
    "            \n",
    "        threshold = 1\n",
    "        self.assertTrue(len(return_value_json) > 1)  # Protocol presumed to have more than threshold events"
   ]
  },
  {
   "cell_type": "markdown",
   "metadata": {},
   "source": [
    "### Execute MetaData Export Tests"
   ]
  },
  {
   "cell_type": "code",
   "execution_count": 6,
   "metadata": {},
   "outputs": [
    {
     "name": "stderr",
     "output_type": "stream",
     "text": [
      "."
     ]
    },
    {
     "name": "stdout",
     "output_type": "stream",
     "text": [
      "Partial output follows:\n",
      "\n",
      "[{'branching_logic': '',\n",
      "  'custom_alignment': '',\n",
      "  'field_annotation': '',\n",
      "  'field_label': 'Pre-Screening ID',\n",
      "  'field_name': 'prescreening_id',\n",
      "  'field_note': '',\n",
      "  'field_type': 'text',\n",
      "  'form_name': 'screening_eligibility',\n",
      "  'identifier': '',\n",
      "  'matrix_group_name': '',\n",
      "  'matrix_ranking': '',\n",
      "  'question_number': '',\n",
      "  'required_field': '',\n",
      "  'section_header': '',\n",
      "  'select_choices_or_calculations': '',\n",
      "  'text_validation_max': '',\n",
      "  'text_validation_min': '',\n",
      "  'text_validation_type_or_show_slider_number': ''},\n",
      " {'branching_logic': '',\n",
      "  'custom_alignment': '',\n",
      "  'field_annotation': '',\n",
      "  'field_label': 'Date',\n",
      "  'field_name': 'eligibility_date',\n",
      "  'field_note': '',\n",
      "  'field_type': 'text',\n",
      "  'form_name': 'screening_eligibility',\n",
      "  'identifier': '',\n",
      "  'matrix_group_name': '',\n",
      "  'matrix_ranking': '',\n",
      "  'question_number': '',\n",
      "  'required_field': 'y',\n",
      "  'section_header': '',\n",
      "  'select_choices_or_calculations': '',\n",
      "  'text_validation_max': '',\n",
      "  'text_validation_min': '',\n",
      "  'text_validation_type_or_show_slider_number': 'date_mdy'}]\n"
     ]
    },
    {
     "name": "stderr",
     "output_type": "stream",
     "text": [
      "\n",
      "----------------------------------------------------------------------\n",
      "Ran 1 test in 1.010s\n",
      "\n",
      "OK\n"
     ]
    },
    {
     "data": {
      "text/plain": [
       "<unittest.runner.TextTestResult run=1 errors=0 failures=0>"
      ]
     },
     "execution_count": 6,
     "metadata": {},
     "output_type": "execute_result"
    }
   ],
   "source": [
    "t = TestMetaDataExport()\n",
    "suite = TestLoader().loadTestsFromModule(t)\n",
    "TextTestRunner().run(suite)"
   ]
  },
  {
   "cell_type": "markdown",
   "metadata": {},
   "source": [
    "### Events Export Unit Tests"
   ]
  },
  {
   "cell_type": "code",
   "execution_count": 7,
   "metadata": {
    "collapsed": true
   },
   "outputs": [],
   "source": [
    "class TestEventExport(unittest.TestCase):\n",
    "    \"\"\"\n",
    "        \n",
    "    \"\"\"\n",
    "    REDCAP_API = os.environ['REDCAP_API_BEECON3_DEV']\n",
    "    REDCAP_URL = os.environ['REDCAP_URL']     \n",
    "    \n",
    "    \n",
    "    def test_basic_export(self):\n",
    "        rcap = Redcapy(api_token=self.REDCAP_API, redcap_url=self.REDCAP_URL)\n",
    "\n",
    "        return_value_json = rcap.export_events()\n",
    "\n",
    "        if 'error' in return_value_json:  # no content\n",
    "            print(return_value_json)\n",
    "        else:\n",
    "            pprint.pprint(return_value_json)\n",
    "            \n",
    "        threshold = 1\n",
    "        self.assertTrue(len(return_value_json) > threshold)  # Protocol presumed to have more than threshold events"
   ]
  },
  {
   "cell_type": "markdown",
   "metadata": {},
   "source": [
    "### Execute Event Export Tests"
   ]
  },
  {
   "cell_type": "code",
   "execution_count": 8,
   "metadata": {},
   "outputs": [
    {
     "name": "stderr",
     "output_type": "stream",
     "text": [
      "."
     ]
    },
    {
     "name": "stdout",
     "output_type": "stream",
     "text": [
      "[{'arm_num': '1',\n",
      "  'custom_event_label': None,\n",
      "  'day_offset': '0',\n",
      "  'event_name': 'Screening',\n",
      "  'offset_max': '0',\n",
      "  'offset_min': '0',\n",
      "  'unique_event_name': 'screening_arm_1'},\n",
      " {'arm_num': '2',\n",
      "  'custom_event_label': '00_week_baseline',\n",
      "  'day_offset': '0',\n",
      "  'event_name': 'Baseline',\n",
      "  'offset_max': '0',\n",
      "  'offset_min': '0',\n",
      "  'unique_event_name': 'baseline_arm_2'},\n",
      " {'arm_num': '2',\n",
      "  'custom_event_label': '10_week_followup1',\n",
      "  'day_offset': '70',\n",
      "  'event_name': 'Follow-up 1',\n",
      "  'offset_max': '30',\n",
      "  'offset_min': '30',\n",
      "  'unique_event_name': 'followup_1_arm_2'},\n",
      " {'arm_num': '2',\n",
      "  'custom_event_label': '99_week_floating',\n",
      "  'day_offset': '71',\n",
      "  'event_name': 'Floating',\n",
      "  'offset_max': '0',\n",
      "  'offset_min': '0',\n",
      "  'unique_event_name': 'floating_arm_2'},\n",
      " {'arm_num': '3',\n",
      "  'custom_event_label': '00_week_b',\n",
      "  'day_offset': '0',\n",
      "  'event_name': 'Baseline',\n",
      "  'offset_max': '0',\n",
      "  'offset_min': '0',\n",
      "  'unique_event_name': 'baseline_arm_3'},\n",
      " {'arm_num': '3',\n",
      "  'custom_event_label': '01_week',\n",
      "  'day_offset': '7',\n",
      "  'event_name': 'Week 1',\n",
      "  'offset_max': '0',\n",
      "  'offset_min': '0',\n",
      "  'unique_event_name': 'week_1_arm_3'},\n",
      " {'arm_num': '3',\n",
      "  'custom_event_label': '02_week',\n",
      "  'day_offset': '14',\n",
      "  'event_name': 'Week 2',\n",
      "  'offset_max': '0',\n",
      "  'offset_min': '0',\n",
      "  'unique_event_name': 'week_2_arm_3'},\n",
      " {'arm_num': '3',\n",
      "  'custom_event_label': '03_week',\n",
      "  'day_offset': '21',\n",
      "  'event_name': 'Week 3',\n",
      "  'offset_max': '0',\n",
      "  'offset_min': '0',\n",
      "  'unique_event_name': 'week_3_arm_3'},\n",
      " {'arm_num': '3',\n",
      "  'custom_event_label': '04_week',\n",
      "  'day_offset': '28',\n",
      "  'event_name': 'Week 4',\n",
      "  'offset_max': '0',\n",
      "  'offset_min': '0',\n",
      "  'unique_event_name': 'week_4_arm_3'},\n",
      " {'arm_num': '3',\n",
      "  'custom_event_label': '05_week',\n",
      "  'day_offset': '35',\n",
      "  'event_name': 'Week 5',\n",
      "  'offset_max': '0',\n",
      "  'offset_min': '0',\n",
      "  'unique_event_name': 'week_5_arm_3'},\n",
      " {'arm_num': '3',\n",
      "  'custom_event_label': '06_week',\n",
      "  'day_offset': '42',\n",
      "  'event_name': 'Week 6',\n",
      "  'offset_max': '0',\n",
      "  'offset_min': '0',\n",
      "  'unique_event_name': 'week_6_arm_3'},\n",
      " {'arm_num': '3',\n",
      "  'custom_event_label': '07_week',\n",
      "  'day_offset': '49',\n",
      "  'event_name': 'Week 7',\n",
      "  'offset_max': '0',\n",
      "  'offset_min': '0',\n",
      "  'unique_event_name': 'week_7_arm_3'},\n",
      " {'arm_num': '3',\n",
      "  'custom_event_label': '08_week',\n",
      "  'day_offset': '56',\n",
      "  'event_name': 'Week 8',\n",
      "  'offset_max': '0',\n",
      "  'offset_min': '0',\n",
      "  'unique_event_name': 'week_8_arm_3'},\n",
      " {'arm_num': '3',\n",
      "  'custom_event_label': '09_week',\n",
      "  'day_offset': '63',\n",
      "  'event_name': 'Week 9',\n",
      "  'offset_max': '0',\n",
      "  'offset_min': '0',\n",
      "  'unique_event_name': 'week_9_arm_3'},\n",
      " {'arm_num': '3',\n",
      "  'custom_event_label': '10_week_f1',\n",
      "  'day_offset': '70',\n",
      "  'event_name': 'Follow-up 1',\n",
      "  'offset_max': '30',\n",
      "  'offset_min': '30',\n",
      "  'unique_event_name': 'followup_1_arm_3'},\n",
      " {'arm_num': '3',\n",
      "  'custom_event_label': '99_week_fu',\n",
      "  'day_offset': '71',\n",
      "  'event_name': 'Floating',\n",
      "  'offset_max': '0',\n",
      "  'offset_min': '0',\n",
      "  'unique_event_name': 'floating_arm_3'},\n",
      " {'arm_num': '4',\n",
      "  'custom_event_label': '00_week_baseline',\n",
      "  'day_offset': '0',\n",
      "  'event_name': 'Baseline',\n",
      "  'offset_max': '0',\n",
      "  'offset_min': '0',\n",
      "  'unique_event_name': 'baseline_arm_4'},\n",
      " {'arm_num': '4',\n",
      "  'custom_event_label': '10_week_followup1',\n",
      "  'day_offset': '70',\n",
      "  'event_name': 'Follow-up 1',\n",
      "  'offset_max': '30',\n",
      "  'offset_min': '30',\n",
      "  'unique_event_name': 'followup_1_arm_4'},\n",
      " {'arm_num': '4',\n",
      "  'custom_event_label': '19_week_followup2',\n",
      "  'day_offset': '133',\n",
      "  'event_name': 'Follow-up 2',\n",
      "  'offset_max': '30',\n",
      "  'offset_min': '30',\n",
      "  'unique_event_name': 'followup_2_arm_4'},\n",
      " {'arm_num': '4',\n",
      "  'custom_event_label': '99_week_floating',\n",
      "  'day_offset': '134',\n",
      "  'event_name': 'Floating',\n",
      "  'offset_max': '0',\n",
      "  'offset_min': '0',\n",
      "  'unique_event_name': 'floating_arm_4'}]\n"
     ]
    },
    {
     "name": "stderr",
     "output_type": "stream",
     "text": [
      "\n",
      "----------------------------------------------------------------------\n",
      "Ran 1 test in 0.566s\n",
      "\n",
      "OK\n"
     ]
    },
    {
     "data": {
      "text/plain": [
       "<unittest.runner.TextTestResult run=1 errors=0 failures=0>"
      ]
     },
     "execution_count": 8,
     "metadata": {},
     "output_type": "execute_result"
    }
   ],
   "source": [
    "t = TestEventExport()\n",
    "suite = TestLoader().loadTestsFromModule(t)\n",
    "TextTestRunner().run(suite)"
   ]
  },
  {
   "cell_type": "markdown",
   "metadata": {},
   "source": [
    "### Data Import Unit Test Class"
   ]
  },
  {
   "cell_type": "code",
   "execution_count": 11,
   "metadata": {
    "collapsed": true
   },
   "outputs": [],
   "source": [
    "class TestImport(unittest.TestCase):\n",
    "    \"\"\"\n",
    "        return_key can be 'ids' or 'count'\n",
    "\n",
    "        Fields defined in each import obviously should exist in the project before attempting.\n",
    "        \n",
    "    \"\"\"\n",
    "    REDCAP_API = os.environ['REDCAP_API_BEECON3_DEV']\n",
    "    REDCAP_URL = os.environ['REDCAP_URL']      \n",
    "\n",
    "\n",
    "    def __import_records__(self, data_to_upload, returnContent):\n",
    "        \"\"\"\n",
    "            Common private code for the import unit tests\n",
    "            \n",
    "            Parameters\n",
    "            ----------\n",
    "                data_to_upload_list: a list of records to import, where each record is a dict\n",
    "        \n",
    "        \"\"\"\n",
    "        rcap = Redcapy(api_token=self.REDCAP_API, redcap_url=self.REDCAP_URL)\n",
    "        \n",
    "        if type(data_to_upload) == dict:  # a dict is presumed to be a single record\n",
    "            data_to_upload_list = [data_to_upload]\n",
    "        else:\n",
    "            data_to_upload_list = data_to_upload\n",
    "            \n",
    "        data_to_upload_list_count = len(data_to_upload_list)\n",
    "        data_to_upload_str = json.dumps(data_to_upload_list)\n",
    "        \n",
    "        return_value_json = rcap.import_records(data_to_upload=data_to_upload_str, \n",
    "                                                returnFormat='json',\n",
    "                                                returnContent=returnContent)\n",
    "\n",
    "        return return_value_json\n",
    "          \n",
    "        \n",
    "    def test_malformed_record_id_import(self):\n",
    "        \"\"\"\n",
    "            Attempt to import a malformed id\n",
    "            \n",
    "            data_to_upload_list fields should be modified to reflect your protocol's data\n",
    "            data_to_upload_list is a list of dicts, to be converted into a json object\n",
    "            \n",
    "            Key Variables\n",
    "            -------------\n",
    "                data_to_upload_list: list of dict study key/value pairs                \n",
    "            \n",
    "            On error, expect to see the following json (generated by the server): \n",
    "                {\"error\": \"The participant id field (record_id) is missing.\"}\n",
    "        \"\"\"\n",
    "        print('Begin test_malformed_record_id_import test') \n",
    "        \n",
    "        data_to_upload_list = [{'record_i': '2', 'subject_id': '435', 'redcap_event_name': 'screening_arm_1'},\n",
    "                          {'record_i': '1', 'subject_id': '45', 'redcap_event_name': 'screening_arm_1'},\n",
    "                          {record_id: '3', 'subject_id': '3', 'redcap_event_name': 'screening_arm_1'}]    \n",
    "        \n",
    "        rcap = Redcapy(api_token=self.REDCAP_API, redcap_url=self.REDCAP_URL)        \n",
    "        data_to_upload_str = json.dumps(data_to_upload_list)\n",
    "        return_value_json = rcap.import_records(data_to_upload=data_to_upload_str)\n",
    "\n",
    "        self.assertTrue('error' in return_value_json, \n",
    "                        msg='test_malformed_record_id_import method did not throw an error upon import')\n",
    "        print('End test_malformed_record_id_import test\\n')\n",
    "      \n",
    "    def test_iterative_import(self):   \n",
    "        \"\"\"\n",
    "            Import a list of records individually, rather than as a batch upload\n",
    "            \n",
    "            Key Variables\n",
    "            -------------\n",
    "                return_key: id or count\n",
    "                data_to_upload_list: list of dict study key/value pairs\n",
    "                \n",
    "        \"\"\"\n",
    "        print('Begin test_iterative_import test')\n",
    "        \n",
    "        return_key = 'count'\n",
    "        create_record_count = 16\n",
    "        base_consent_date = date(2017, 1, 30)\n",
    "        \n",
    "        # Generate a list of records to upload\n",
    "        data_to_upload_list = [{record_id: str(i+101), \n",
    "                                'redcap_event_name': 'screening_arm_1', \n",
    "                                'ss01_numteeth': i, \n",
    "                                'consent_date': (base_consent_date + timedelta(days=i)).strftime('%Y-%m-%d') }\n",
    "                               for i in range(create_record_count)\n",
    "                              ]\n",
    "        print('List of records to import into Redcap:')\n",
    "        pprint.pprint(data_to_upload_list)\n",
    "                \n",
    "        data_to_upload_list_count = len(data_to_upload_list)\n",
    "        return_count = 0\n",
    "        import_attempt_count = 0\n",
    "        \n",
    "        for i, record in enumerate(data_to_upload_list):\n",
    "            import_list = [data_to_upload_list[i]]\n",
    "            import_attempt_count += 1\n",
    "            return_value_json = self.__import_records__(data_to_upload=import_list, returnContent=return_key) \n",
    "\n",
    "            if 'count' in return_value_json and return_value_json['count'] == 1:\n",
    "                return_count += 1\n",
    "            elif 'error' in return_value_json:\n",
    "                if record_id in import_list[0]:\n",
    "                    print(record_id, import_list, ' failed to import.')\n",
    "                else:\n",
    "                    print('Test record does not have a', 'record id')\n",
    "                    \n",
    "                print('Error returned from server:', return_value_json['error'])\n",
    "            else:\n",
    "                print(record_id, import_list, ' failed to import.')\n",
    "                print('Server returned : ', return_value_json)                \n",
    "                \n",
    "        print('{} distinct imports attempted, {} successes from a list of {} records'.format(import_attempt_count, \n",
    "                                                                                    return_count, \n",
    "                                                                                    data_to_upload_list_count))\n",
    "        self.assertEqual(data_to_upload_list_count, return_count, msg='At least one record was not imported properly.')\n",
    "        print('End test_iterative_import test\\n')\n",
    "        \n",
    "    def test_basic_import_delete(self):\n",
    "        \"\"\"\n",
    "            First create a record using a randomly generated ID, then delete it\n",
    "            \n",
    "            Key Variables\n",
    "            -------------\n",
    "                id = the record_id to create, then delete\n",
    "                return_key: id or count\n",
    "                data_to_upload_list: list of dict study key/value pairs            \n",
    "        \"\"\"\n",
    "        print('Begin test_basic_import_delete test')\n",
    "        id = str(hashlib.sha1().hexdigest()[:16])\n",
    "        return_key = 'count'\n",
    "        \n",
    "        rcap = Redcapy(api_token=self.REDCAP_API, redcap_url=self.REDCAP_URL)\n",
    "        \n",
    "        # Note: code requires modifications if the list is extended to length greater than 1\n",
    "        data_to_upload_list = [{record_id: id, 'redcap_event_name': 'screening_arm_1'}]\n",
    "        \n",
    "        data_to_upload_list_count = len(data_to_upload_list)\n",
    "        return_count = 0\n",
    "        import_attempt_count = 0\n",
    "\n",
    "        for i, record in enumerate(data_to_upload_list):\n",
    "            data_to_upload = [record]\n",
    "            import_attempt_count += 1\n",
    "            \n",
    "            print('Importing record ID', id)\n",
    "            \n",
    "            return_value_json = self.__import_records__(data_to_upload=data_to_upload, returnContent=return_key) \n",
    "\n",
    "            if 'count' in return_value_json and return_value_json['count'] == 1:\n",
    "                return_count += 1\n",
    "                print('ID', id, 'successfully imported.')\n",
    "            elif 'error' in return_value_json:\n",
    "                if record_id in data_to_upload:\n",
    "                    print(record_id, data_to_upload[record_id], ' failed to import.')\n",
    "                else:\n",
    "                    print('Test record does not have a record id')\n",
    "                    \n",
    "                print('Error returned from server:', return_value_json['error'])\n",
    "            else:\n",
    "                print(record_id, data_to_upload[record_id], ' failed to import.')\n",
    "                print('Server returned : ', return_value_json)    \n",
    "                \n",
    "            print('{} distinct imports attempted, {} successes from a list of {} records'.format(import_attempt_count, \n",
    "                                                                                    return_count, \n",
    "                                                                                    data_to_upload_list_count))                \n",
    "            if return_count == 1:\n",
    "                wait_seconds = 10\n",
    "                \n",
    "                print('Attempting to delete record for ID', id)\n",
    "                print('Please wait {} seconds to complete database delete operation'.format(wait_seconds))\n",
    "                print('Wait time may require adjustment if server is busy')\n",
    "                \n",
    "                delete_return_count = rcap.delete_record(id_to_delete=id)\n",
    "                \n",
    "                time.sleep(wait_seconds)\n",
    "            \n",
    "            if delete_return_count == 1:\n",
    "                print('ID', id, 'successfully deleted.')\n",
    "            elif return_count == 1:\n",
    "                print('ID', id, 'was imported but not successfully deleted.')\n",
    "                \n",
    "        self.assertTrue(data_to_upload_list_count == return_count and delete_return_count == return_count, \n",
    "                        msg='At least one record was not imported properly.')\n",
    "\n",
    "        print('End test_basic_import_delete test\\n') "
   ]
  },
  {
   "cell_type": "markdown",
   "metadata": {},
   "source": [
    "### Execute Import Tests"
   ]
  },
  {
   "cell_type": "code",
   "execution_count": 12,
   "metadata": {},
   "outputs": [
    {
     "name": "stdout",
     "output_type": "stream",
     "text": [
      "Begin test_basic_import_delete test\n",
      "Importing record ID da39a3ee5e6b4b0d\n",
      "ID da39a3ee5e6b4b0d successfully imported.\n",
      "1 distinct imports attempted, 1 successes from a list of 1 records\n",
      "Attempting to delete record for ID da39a3ee5e6b4b0d\n",
      "Please wait 10 seconds to complete database delete operation\n",
      "Wait time may require adjustment if server is busy\n"
     ]
    },
    {
     "name": "stderr",
     "output_type": "stream",
     "text": [
      "."
     ]
    },
    {
     "name": "stdout",
     "output_type": "stream",
     "text": [
      "ID da39a3ee5e6b4b0d successfully deleted.\n",
      "End test_basic_import_delete test\n",
      "\n",
      "Begin test_iterative_import test\n",
      "List of records to import into Redcap:\n",
      "[{'consent_date': '2017-01-30',\n",
      "  'prescreening_id': '101',\n",
      "  'redcap_event_name': 'screening_arm_1',\n",
      "  'ss01_numteeth': 0},\n",
      " {'consent_date': '2017-01-31',\n",
      "  'prescreening_id': '102',\n",
      "  'redcap_event_name': 'screening_arm_1',\n",
      "  'ss01_numteeth': 1},\n",
      " {'consent_date': '2017-02-01',\n",
      "  'prescreening_id': '103',\n",
      "  'redcap_event_name': 'screening_arm_1',\n",
      "  'ss01_numteeth': 2},\n",
      " {'consent_date': '2017-02-02',\n",
      "  'prescreening_id': '104',\n",
      "  'redcap_event_name': 'screening_arm_1',\n",
      "  'ss01_numteeth': 3},\n",
      " {'consent_date': '2017-02-03',\n",
      "  'prescreening_id': '105',\n",
      "  'redcap_event_name': 'screening_arm_1',\n",
      "  'ss01_numteeth': 4},\n",
      " {'consent_date': '2017-02-04',\n",
      "  'prescreening_id': '106',\n",
      "  'redcap_event_name': 'screening_arm_1',\n",
      "  'ss01_numteeth': 5},\n",
      " {'consent_date': '2017-02-05',\n",
      "  'prescreening_id': '107',\n",
      "  'redcap_event_name': 'screening_arm_1',\n",
      "  'ss01_numteeth': 6},\n",
      " {'consent_date': '2017-02-06',\n",
      "  'prescreening_id': '108',\n",
      "  'redcap_event_name': 'screening_arm_1',\n",
      "  'ss01_numteeth': 7},\n",
      " {'consent_date': '2017-02-07',\n",
      "  'prescreening_id': '109',\n",
      "  'redcap_event_name': 'screening_arm_1',\n",
      "  'ss01_numteeth': 8},\n",
      " {'consent_date': '2017-02-08',\n",
      "  'prescreening_id': '110',\n",
      "  'redcap_event_name': 'screening_arm_1',\n",
      "  'ss01_numteeth': 9},\n",
      " {'consent_date': '2017-02-09',\n",
      "  'prescreening_id': '111',\n",
      "  'redcap_event_name': 'screening_arm_1',\n",
      "  'ss01_numteeth': 10},\n",
      " {'consent_date': '2017-02-10',\n",
      "  'prescreening_id': '112',\n",
      "  'redcap_event_name': 'screening_arm_1',\n",
      "  'ss01_numteeth': 11},\n",
      " {'consent_date': '2017-02-11',\n",
      "  'prescreening_id': '113',\n",
      "  'redcap_event_name': 'screening_arm_1',\n",
      "  'ss01_numteeth': 12},\n",
      " {'consent_date': '2017-02-12',\n",
      "  'prescreening_id': '114',\n",
      "  'redcap_event_name': 'screening_arm_1',\n",
      "  'ss01_numteeth': 13},\n",
      " {'consent_date': '2017-02-13',\n",
      "  'prescreening_id': '115',\n",
      "  'redcap_event_name': 'screening_arm_1',\n",
      "  'ss01_numteeth': 14},\n",
      " {'consent_date': '2017-02-14',\n",
      "  'prescreening_id': '116',\n",
      "  'redcap_event_name': 'screening_arm_1',\n",
      "  'ss01_numteeth': 15}]\n"
     ]
    },
    {
     "name": "stderr",
     "output_type": "stream",
     "text": [
      "."
     ]
    },
    {
     "name": "stdout",
     "output_type": "stream",
     "text": [
      "16 distinct imports attempted, 16 successes from a list of 16 records\n",
      "End test_iterative_import test\n",
      "\n",
      "Begin test_malformed_record_id_import test\n"
     ]
    },
    {
     "name": "stderr",
     "output_type": "stream",
     "text": [
      "."
     ]
    },
    {
     "name": "stdout",
     "output_type": "stream",
     "text": [
      "End test_malformed_record_id_import test\n",
      "\n"
     ]
    },
    {
     "name": "stderr",
     "output_type": "stream",
     "text": [
      "\n",
      "----------------------------------------------------------------------\n",
      "Ran 3 tests in 23.206s\n",
      "\n",
      "OK\n"
     ]
    },
    {
     "data": {
      "text/plain": [
       "<unittest.runner.TextTestResult run=3 errors=0 failures=0>"
      ]
     },
     "execution_count": 12,
     "metadata": {},
     "output_type": "execute_result"
    }
   ],
   "source": [
    "# Note the order of operations may differ from how they appear in the test\n",
    "t = TestImport()\n",
    "suite = TestLoader().loadTestsFromModule(t)\n",
    "TextTestRunner().run(suite)"
   ]
  },
  {
   "cell_type": "code",
   "execution_count": null,
   "metadata": {
    "collapsed": true
   },
   "outputs": [],
   "source": []
  }
 ],
 "metadata": {
  "kernelspec": {
   "display_name": "Python 3",
   "language": "python",
   "name": "python3"
  },
  "language_info": {
   "codemirror_mode": {
    "name": "ipython",
    "version": 3
   },
   "file_extension": ".py",
   "mimetype": "text/x-python",
   "name": "python",
   "nbconvert_exporter": "python",
   "pygments_lexer": "ipython3",
   "version": "3.5.2"
  },
  "varInspector": {
   "cols": {
    "lenName": 16,
    "lenType": 16,
    "lenVar": 40
   },
   "kernels_config": {
    "python": {
     "delete_cmd_postfix": "",
     "delete_cmd_prefix": "del ",
     "library": "var_list.py",
     "varRefreshCmd": "print(var_dic_list())"
    },
    "r": {
     "delete_cmd_postfix": ") ",
     "delete_cmd_prefix": "rm(",
     "library": "var_list.r",
     "varRefreshCmd": "cat(var_dic_list()) "
    }
   },
   "types_to_exclude": [
    "module",
    "function",
    "builtin_function_or_method",
    "instance",
    "_Feature"
   ],
   "window_display": false
  }
 },
 "nbformat": 4,
 "nbformat_minor": 2
}
